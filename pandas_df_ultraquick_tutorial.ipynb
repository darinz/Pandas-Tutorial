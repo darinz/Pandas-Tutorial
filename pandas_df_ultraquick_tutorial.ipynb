{
 "cells": [
  {
   "cell_type": "markdown",
   "metadata": {
    "id": "DeKRcpe49VnV"
   },
   "source": [
    "# Quick Introduction to Pandas DataFrame for Machine Learning and Deep Learning\n",
    "\n",
    "Welcome to this ultra-quick tutorial on [**DataFrames**](https://pandas.pydata.org/pandas-docs/stable/reference/api/pandas.DataFrame.html), the central data structure in the pandas API. While not a comprehensive guide, this tutorial offers a rapid introduction to the essential aspects of DataFrames needed to kickstart your journey in Machine Learning and Deep Learning.\n",
    "\n",
    "Think of a DataFrame as an in-memory spreadsheet. Similar to a spreadsheet:\n",
    "\n",
    "  * Data is stored in cells within a DataFrame.\n",
    "  * The DataFrame features named columns (usually) and numbered rows."
   ]
  },
  {
   "cell_type": "markdown",
   "metadata": {
    "id": "AByfHsr8H_sU"
   },
   "source": [
    "## Importing NumPy and Pandas Modules\n",
    "\n",
    "Execute the code cell below to import the NumPy and pandas modules."
   ]
  },
  {
   "cell_type": "code",
   "execution_count": 1,
   "metadata": {
    "id": "ZmL0l551Iibq"
   },
   "outputs": [],
   "source": [
    "# Importing the NumPy library and aliasing it as 'np' for convenience\n",
    "import numpy as np\n",
    "\n",
    "# Importing the Pandas library and aliasing it as 'pd' for convenience\n",
    "import pandas as pd"
   ]
  },
  {
   "cell_type": "markdown",
   "metadata": {
    "id": "RutIK84wIp1S"
   },
   "source": [
    "## Creating a Simple DataFrame\n",
    "\n",
    "In the code cell below, a basic DataFrame is constructed, consisting of 10 cells organized as follows:\n",
    "\n",
    "  * 5 rows\n",
    "  * 2 columns: one named `temperature` and the other named `activity`\n",
    "\n",
    "The code utilizes the `pd.DataFrame` class for instantiation, requiring two arguments:\n",
    "\n",
    "  * The first argument supplies the data for the 10 cells, generated using `np.array` to form a 5x2 NumPy array.\n",
    "  * The second argument specifies the column names for the DataFrame.\n",
    "\n",
    "**Note**: Avoid redefining variables in the code cells below, as they are utilized further in this tutorial."
   ]
  },
  {
   "cell_type": "code",
   "execution_count": 2,
   "metadata": {
    "id": "FNZsPOgSD4F2"
   },
   "outputs": [
    {
     "name": "stdout",
     "output_type": "stream",
     "text": [
      "   temperature  activity\n",
      "0            0         3\n",
      "1           10         7\n",
      "2           20         9\n",
      "3           30        14\n",
      "4           40        15\n"
     ]
    }
   ],
   "source": [
    "# Create and populate a 5x2 NumPy array.\n",
    "my_data = np.array([[0, 3], [10, 7], [20, 9], [30, 14], [40, 15]])\n",
    "\n",
    "# Create a Python list that holds the names of the two columns.\n",
    "my_column_names = ['temperature', 'activity']\n",
    "\n",
    "# Create a DataFrame using the pd.DataFrame class.\n",
    "# The 'data' parameter is assigned the NumPy array, and 'columns' parameter\n",
    "# is assigned the column names.\n",
    "my_dataframe = pd.DataFrame(data=my_data, columns=my_column_names)\n",
    "\n",
    "# Print the entire DataFrame to display the constructed data structure.\n",
    "print(my_dataframe)"
   ]
  },
  {
   "cell_type": "markdown",
   "metadata": {
    "id": "NJ-I78_7OFVs"
   },
   "source": [
    "## Adding a New Column to a DataFrame\n",
    "\n",
    "Expanding a pandas DataFrame with a new column is a straightforward process. You can achieve this by assigning values to a new column name. In the example below, a third column named `adjusted` is introduced to the existing DataFrame (`my_dataframe`):"
   ]
  },
  {
   "cell_type": "code",
   "execution_count": 3,
   "metadata": {
    "id": "JEBZyMdEOngx"
   },
   "outputs": [
    {
     "name": "stdout",
     "output_type": "stream",
     "text": [
      "   temperature  activity  adjusted\n",
      "0            0         3         5\n",
      "1           10         7         9\n",
      "2           20         9        11\n",
      "3           30        14        16\n",
      "4           40        15        17\n"
     ]
    }
   ],
   "source": [
    "# Create a new column named 'adjusted' in the DataFrame.\n",
    "# The values in the 'adjusted' column are derived by adding 2 to the\n",
    "# corresponding values in the 'activity' column.\n",
    "my_dataframe[\"adjusted\"] = my_dataframe[\"activity\"] + 2\n",
    "\n",
    "# Print the entire DataFrame to display the updated structure\n",
    "# with the new 'adjusted' column.\n",
    "print(my_dataframe)"
   ]
  },
  {
   "cell_type": "markdown",
   "metadata": {
    "id": "RJ2aziCR5th2"
   },
   "source": [
    "## Selecting a Subset of a DataFrame\n",
    "\n",
    "Pandas offers various methods to extract specific rows, columns, slices, or cells from a DataFrame."
   ]
  },
  {
   "cell_type": "code",
   "execution_count": 4,
   "metadata": {
    "id": "RIO91Fu65s6k"
   },
   "outputs": [
    {
     "name": "stdout",
     "output_type": "stream",
     "text": [
      "Rows #0, #1, and #2: \n",
      "   temperature  activity  adjusted\n",
      "0            0         3         5\n",
      "1           10         7         9\n",
      "2           20         9        11 \n",
      "\n",
      "Row #2:\n",
      "    temperature  activity  adjusted\n",
      "2           20         9        11 \n",
      "\n",
      "Rows #1, #2, and #3: \n",
      "   temperature  activity  adjusted\n",
      "1           10         7         9\n",
      "2           20         9        11\n",
      "3           30        14        16 \n",
      "\n",
      "Column 'temperature': \n",
      "0     0\n",
      "1    10\n",
      "2    20\n",
      "3    30\n",
      "4    40\n",
      "Name: temperature, dtype: int64 \n",
      "\n"
     ]
    }
   ],
   "source": [
    "# Print the first 3 rows (index 0, 1, and 2) of the DataFrame.\n",
    "print(f\"Rows #0, #1, and #2: \\n{my_dataframe.head(3)} \\n\")\n",
    "\n",
    "# Print the third row (index 2) of the DataFrame.\n",
    "print(f\"Row #2:\\n {my_dataframe.iloc[[2]]} \\n\")\n",
    "\n",
    "# Print rows #1, #2, and #3 of the DataFrame using slicing.\n",
    "print(f\"Rows #1, #2, and #3: \\n{my_dataframe[1:4]} \\n\")\n",
    "\n",
    "# Print the entire 'temperature' column from the DataFrame.\n",
    "print(f\"Column 'temperature': \\n{my_dataframe['temperature']} \\n\")"
   ]
  },
  {
   "cell_type": "markdown",
   "metadata": {
    "id": "_cL_NxAdZzdS"
   },
   "source": [
    "## Example: Creating a DataFrame\n",
    "\n",
    "The code below accomplishes the following steps:\n",
    "\n",
    "  1. Creates a 3x4 (3 rows x 4 columns) pandas DataFrame with columns named `Eleanor`,  `Chidi`, `Tahani`, and `Jason`. Each of the 12 cells is filled with a random integer between 0 and 100, inclusive.\n",
    "\n",
    "  2. Outputs:\n",
    "\n",
    "     * The entire DataFrame\n",
    "     * The value in the cell of row #1 in the `Eleanor` column\n",
    "\n",
    "  3. Adds a fifth column named `Janet`, populated with the row-wise sums of `Tahani` and `Jason`.\n"
   ]
  },
  {
   "cell_type": "code",
   "execution_count": 5,
   "metadata": {
    "id": "7QkjRBnbSU4N"
   },
   "outputs": [
    {
     "name": "stdout",
     "output_type": "stream",
     "text": [
      "Entire DataFrame:\n",
      "   Eleanor  Chidi  Tahani  Jason\n",
      "0       65     65      16     18\n",
      "1       60     55      50     47\n",
      "2       24     15      55     20 \n",
      "\n",
      "Value in cell (Row #1, 'Eleanor'): 60 \n",
      "\n",
      "DataFrame with 'Janet' column:\n",
      "   Eleanor  Chidi  Tahani  Jason  Janet\n",
      "0       65     65      16     18     34\n",
      "1       60     55      50     47     97\n",
      "2       24     15      55     20     75\n"
     ]
    }
   ],
   "source": [
    "# Step 1: Create a 3x4 DataFrame with random integers between 0 and 100.\n",
    "df_example = pd.DataFrame({\n",
    "    'Eleanor': np.random.randint(0, 101, 3),\n",
    "    'Chidi': np.random.randint(0, 101, 3),\n",
    "    'Tahani': np.random.randint(0, 101, 3),\n",
    "    'Jason': np.random.randint(0, 101, 3)\n",
    "})\n",
    "\n",
    "# Step 2: Output the DataFrame and a specific cell value.\n",
    "print(f\"Entire DataFrame:\\n{df_example} \\n\")\n",
    "\n",
    "# Print the value in the cell of row #1 in the 'Eleanor' column.\n",
    "print(f\"Value in cell (Row #1, 'Eleanor'): {df_example.at[1, 'Eleanor']} \\n\")\n",
    "\n",
    "# Step 3: Create a new column 'Janet' with row-wise sums of 'Tahani' and 'Jason'.\n",
    "df_example['Janet'] = df_example['Tahani'] + df_example['Jason']\n",
    "\n",
    "# Display the updated DataFrame with the new 'Janet' column.\n",
    "print(f\"DataFrame with 'Janet' column:\\n{df_example}\")"
   ]
  },
  {
   "cell_type": "markdown",
   "metadata": {
    "id": "bh7MeyafemNL"
   },
   "source": [
    "## Duplicating a DataFrame\n",
    "\n",
    "In Pandas, there are two distinct methods for duplicating a DataFrame:\n",
    "\n",
    "* **Referencing:** Assigning a DataFrame to a new variable creates a reference. Modifications to either the original DataFrame or the new variable will affect both.\n",
    "\n",
    "* **Copying:** Utilizing the `pd.DataFrame.copy` method generates an independent copy. Changes made to the original DataFrame or its copy won't impact the other.\n",
    "\n",
    "This distinction is subtle yet crucial."
   ]
  },
  {
   "cell_type": "code",
   "execution_count": 6,
   "metadata": {
    "id": "YDu2VotPgzsW"
   },
   "outputs": [
    {
     "name": "stdout",
     "output_type": "stream",
     "text": [
      "  Starting value of df: 47\n",
      "  Starting value of reference_to_df: 47\n",
      "\n",
      "  Updated df: 52\n",
      "  Updated reference_to_df: 52\n",
      "\n",
      "\n",
      "  Starting value of my_dataframe: 7\n",
      "  Starting value of copy_of_my_dataframe: 7\n",
      "\n",
      "  Updated my_dataframe: 10\n",
      "  copy_of_my_dataframe does not get updated: 7\n"
     ]
    }
   ],
   "source": [
    "# Experiment with a reference: Creating a reference to the DataFrame.\n",
    "reference_to_df = df_example\n",
    "\n",
    "# Print the starting value of a specific cell in both df and the reference_to_df.\n",
    "print(f\"  Starting value of df: {df_example['Jason'][1]}\")\n",
    "print(f\"  Starting value of reference_to_df: {reference_to_df['Jason'][1]}\\n\")\n",
    "\n",
    "# Modify a cell in df, which should also reflect in the reference_to_df.\n",
    "df_example.at[1, 'Jason'] = df_example['Jason'][1] + 5\n",
    "print(f\"  Updated df: {df_example['Jason'][1]}\")\n",
    "print(f\"  Updated reference_to_df: {reference_to_df['Jason'][1]}\\n\\n\")\n",
    "\n",
    "# Experiment with a true copy: Creating a true independent copy of the DataFrame.\n",
    "copy_of_my_dataframe = my_dataframe.copy()\n",
    "\n",
    "# Print the starting value of a specific cell in both my_dataframe and copy_of_my_dataframe.\n",
    "print(f\"  Starting value of my_dataframe: {my_dataframe['activity'][1]}\")\n",
    "print(f\"  Starting value of copy_of_my_dataframe: {copy_of_my_dataframe['activity'][1]}\\n\")\n",
    "\n",
    "# Modify a cell in my_dataframe, ensuring that copy_of_my_dataframe remains unchanged.\n",
    "my_dataframe.at[1, 'activity'] = my_dataframe['activity'][1] + 3\n",
    "print(f\"  Updated my_dataframe: {my_dataframe['activity'][1]}\")\n",
    "print(f\"  copy_of_my_dataframe does not get updated: {copy_of_my_dataframe['activity'][1]}\")"
   ]
  }
 ],
 "metadata": {
  "colab": {
   "private_outputs": true,
   "provenance": []
  },
  "kernelspec": {
   "display_name": "Python 3 (ipykernel)",
   "language": "python",
   "name": "python3"
  },
  "language_info": {
   "codemirror_mode": {
    "name": "ipython",
    "version": 3
   },
   "file_extension": ".py",
   "mimetype": "text/x-python",
   "name": "python",
   "nbconvert_exporter": "python",
   "pygments_lexer": "ipython3",
   "version": "3.10.13"
  }
 },
 "nbformat": 4,
 "nbformat_minor": 4
}
